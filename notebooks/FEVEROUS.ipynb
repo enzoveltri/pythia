{
  "nbformat": 4,
  "nbformat_minor": 0,
  "metadata": {
    "colab": {
      "name": "FEVEROUS.ipynb",
      "provenance": [],
      "collapsed_sections": []
    },
    "kernelspec": {
      "name": "python3",
      "display_name": "Python 3"
    },
    "language_info": {
      "name": "python"
    },
    "accelerator": "GPU",
    "widgets": {
      "application/vnd.jupyter.widget-state+json": {
        "2a93953c28c947acbb34bfdf3ed08d88": {
          "model_module": "@jupyter-widgets/controls",
          "model_name": "HBoxModel",
          "model_module_version": "1.5.0",
          "state": {
            "_view_name": "HBoxView",
            "_dom_classes": [],
            "_model_name": "HBoxModel",
            "_view_module": "@jupyter-widgets/controls",
            "_model_module_version": "1.5.0",
            "_view_count": null,
            "_view_module_version": "1.5.0",
            "box_style": "",
            "layout": "IPY_MODEL_f3cf5c74c3e34eca826207d1c263c36c",
            "_model_module": "@jupyter-widgets/controls",
            "children": [
              "IPY_MODEL_8e7bf778dfa94f09b2529449421aa342",
              "IPY_MODEL_b94281f1c5b7497b82f58ffa1cb59cc5",
              "IPY_MODEL_1393387d6c38418daba3a581f4fd6cd4"
            ]
          }
        },
        "f3cf5c74c3e34eca826207d1c263c36c": {
          "model_module": "@jupyter-widgets/base",
          "model_name": "LayoutModel",
          "model_module_version": "1.2.0",
          "state": {
            "_view_name": "LayoutView",
            "grid_template_rows": null,
            "right": null,
            "justify_content": null,
            "_view_module": "@jupyter-widgets/base",
            "overflow": null,
            "_model_module_version": "1.2.0",
            "_view_count": null,
            "flex_flow": null,
            "width": null,
            "min_width": null,
            "border": null,
            "align_items": null,
            "bottom": null,
            "_model_module": "@jupyter-widgets/base",
            "top": null,
            "grid_column": null,
            "overflow_y": null,
            "overflow_x": null,
            "grid_auto_flow": null,
            "grid_area": null,
            "grid_template_columns": null,
            "flex": null,
            "_model_name": "LayoutModel",
            "justify_items": null,
            "grid_row": null,
            "max_height": null,
            "align_content": null,
            "visibility": null,
            "align_self": null,
            "height": null,
            "min_height": null,
            "padding": null,
            "grid_auto_rows": null,
            "grid_gap": null,
            "max_width": null,
            "order": null,
            "_view_module_version": "1.2.0",
            "grid_template_areas": null,
            "object_position": null,
            "object_fit": null,
            "grid_auto_columns": null,
            "margin": null,
            "display": null,
            "left": null
          }
        },
        "8e7bf778dfa94f09b2529449421aa342": {
          "model_module": "@jupyter-widgets/controls",
          "model_name": "HTMLModel",
          "model_module_version": "1.5.0",
          "state": {
            "_view_name": "HTMLView",
            "style": "IPY_MODEL_1564b0d8bb6b4e8fa190c51b3dc7d338",
            "_dom_classes": [],
            "description": "",
            "_model_name": "HTMLModel",
            "placeholder": "​",
            "_view_module": "@jupyter-widgets/controls",
            "_model_module_version": "1.5.0",
            "value": "Downloading: 100%",
            "_view_count": null,
            "_view_module_version": "1.5.0",
            "description_tooltip": null,
            "_model_module": "@jupyter-widgets/controls",
            "layout": "IPY_MODEL_8e9fa288a8b8487587412cc8676a426a"
          }
        },
        "b94281f1c5b7497b82f58ffa1cb59cc5": {
          "model_module": "@jupyter-widgets/controls",
          "model_name": "FloatProgressModel",
          "model_module_version": "1.5.0",
          "state": {
            "_view_name": "ProgressView",
            "style": "IPY_MODEL_cf4c06e008b14fedbdc6cc57e9a7bcb5",
            "_dom_classes": [],
            "description": "",
            "_model_name": "FloatProgressModel",
            "bar_style": "success",
            "max": 898822,
            "_view_module": "@jupyter-widgets/controls",
            "_model_module_version": "1.5.0",
            "value": 898822,
            "_view_count": null,
            "_view_module_version": "1.5.0",
            "orientation": "horizontal",
            "min": 0,
            "description_tooltip": null,
            "_model_module": "@jupyter-widgets/controls",
            "layout": "IPY_MODEL_6c4109c8a13e457da448cf5015ae9224"
          }
        },
        "1393387d6c38418daba3a581f4fd6cd4": {
          "model_module": "@jupyter-widgets/controls",
          "model_name": "HTMLModel",
          "model_module_version": "1.5.0",
          "state": {
            "_view_name": "HTMLView",
            "style": "IPY_MODEL_fe67c87f3aca46a7a1b700cc2e3a2b66",
            "_dom_classes": [],
            "description": "",
            "_model_name": "HTMLModel",
            "placeholder": "​",
            "_view_module": "@jupyter-widgets/controls",
            "_model_module_version": "1.5.0",
            "value": " 899k/899k [00:00&lt;00:00, 13.1MB/s]",
            "_view_count": null,
            "_view_module_version": "1.5.0",
            "description_tooltip": null,
            "_model_module": "@jupyter-widgets/controls",
            "layout": "IPY_MODEL_c5fab14f78b34e19a06ccde4fc79a641"
          }
        },
        "1564b0d8bb6b4e8fa190c51b3dc7d338": {
          "model_module": "@jupyter-widgets/controls",
          "model_name": "DescriptionStyleModel",
          "model_module_version": "1.5.0",
          "state": {
            "_view_name": "StyleView",
            "_model_name": "DescriptionStyleModel",
            "description_width": "",
            "_view_module": "@jupyter-widgets/base",
            "_model_module_version": "1.5.0",
            "_view_count": null,
            "_view_module_version": "1.2.0",
            "_model_module": "@jupyter-widgets/controls"
          }
        },
        "8e9fa288a8b8487587412cc8676a426a": {
          "model_module": "@jupyter-widgets/base",
          "model_name": "LayoutModel",
          "model_module_version": "1.2.0",
          "state": {
            "_view_name": "LayoutView",
            "grid_template_rows": null,
            "right": null,
            "justify_content": null,
            "_view_module": "@jupyter-widgets/base",
            "overflow": null,
            "_model_module_version": "1.2.0",
            "_view_count": null,
            "flex_flow": null,
            "width": null,
            "min_width": null,
            "border": null,
            "align_items": null,
            "bottom": null,
            "_model_module": "@jupyter-widgets/base",
            "top": null,
            "grid_column": null,
            "overflow_y": null,
            "overflow_x": null,
            "grid_auto_flow": null,
            "grid_area": null,
            "grid_template_columns": null,
            "flex": null,
            "_model_name": "LayoutModel",
            "justify_items": null,
            "grid_row": null,
            "max_height": null,
            "align_content": null,
            "visibility": null,
            "align_self": null,
            "height": null,
            "min_height": null,
            "padding": null,
            "grid_auto_rows": null,
            "grid_gap": null,
            "max_width": null,
            "order": null,
            "_view_module_version": "1.2.0",
            "grid_template_areas": null,
            "object_position": null,
            "object_fit": null,
            "grid_auto_columns": null,
            "margin": null,
            "display": null,
            "left": null
          }
        },
        "cf4c06e008b14fedbdc6cc57e9a7bcb5": {
          "model_module": "@jupyter-widgets/controls",
          "model_name": "ProgressStyleModel",
          "model_module_version": "1.5.0",
          "state": {
            "_view_name": "StyleView",
            "_model_name": "ProgressStyleModel",
            "description_width": "",
            "_view_module": "@jupyter-widgets/base",
            "_model_module_version": "1.5.0",
            "_view_count": null,
            "_view_module_version": "1.2.0",
            "bar_color": null,
            "_model_module": "@jupyter-widgets/controls"
          }
        },
        "6c4109c8a13e457da448cf5015ae9224": {
          "model_module": "@jupyter-widgets/base",
          "model_name": "LayoutModel",
          "model_module_version": "1.2.0",
          "state": {
            "_view_name": "LayoutView",
            "grid_template_rows": null,
            "right": null,
            "justify_content": null,
            "_view_module": "@jupyter-widgets/base",
            "overflow": null,
            "_model_module_version": "1.2.0",
            "_view_count": null,
            "flex_flow": null,
            "width": null,
            "min_width": null,
            "border": null,
            "align_items": null,
            "bottom": null,
            "_model_module": "@jupyter-widgets/base",
            "top": null,
            "grid_column": null,
            "overflow_y": null,
            "overflow_x": null,
            "grid_auto_flow": null,
            "grid_area": null,
            "grid_template_columns": null,
            "flex": null,
            "_model_name": "LayoutModel",
            "justify_items": null,
            "grid_row": null,
            "max_height": null,
            "align_content": null,
            "visibility": null,
            "align_self": null,
            "height": null,
            "min_height": null,
            "padding": null,
            "grid_auto_rows": null,
            "grid_gap": null,
            "max_width": null,
            "order": null,
            "_view_module_version": "1.2.0",
            "grid_template_areas": null,
            "object_position": null,
            "object_fit": null,
            "grid_auto_columns": null,
            "margin": null,
            "display": null,
            "left": null
          }
        },
        "fe67c87f3aca46a7a1b700cc2e3a2b66": {
          "model_module": "@jupyter-widgets/controls",
          "model_name": "DescriptionStyleModel",
          "model_module_version": "1.5.0",
          "state": {
            "_view_name": "StyleView",
            "_model_name": "DescriptionStyleModel",
            "description_width": "",
            "_view_module": "@jupyter-widgets/base",
            "_model_module_version": "1.5.0",
            "_view_count": null,
            "_view_module_version": "1.2.0",
            "_model_module": "@jupyter-widgets/controls"
          }
        },
        "c5fab14f78b34e19a06ccde4fc79a641": {
          "model_module": "@jupyter-widgets/base",
          "model_name": "LayoutModel",
          "model_module_version": "1.2.0",
          "state": {
            "_view_name": "LayoutView",
            "grid_template_rows": null,
            "right": null,
            "justify_content": null,
            "_view_module": "@jupyter-widgets/base",
            "overflow": null,
            "_model_module_version": "1.2.0",
            "_view_count": null,
            "flex_flow": null,
            "width": null,
            "min_width": null,
            "border": null,
            "align_items": null,
            "bottom": null,
            "_model_module": "@jupyter-widgets/base",
            "top": null,
            "grid_column": null,
            "overflow_y": null,
            "overflow_x": null,
            "grid_auto_flow": null,
            "grid_area": null,
            "grid_template_columns": null,
            "flex": null,
            "_model_name": "LayoutModel",
            "justify_items": null,
            "grid_row": null,
            "max_height": null,
            "align_content": null,
            "visibility": null,
            "align_self": null,
            "height": null,
            "min_height": null,
            "padding": null,
            "grid_auto_rows": null,
            "grid_gap": null,
            "max_width": null,
            "order": null,
            "_view_module_version": "1.2.0",
            "grid_template_areas": null,
            "object_position": null,
            "object_fit": null,
            "grid_auto_columns": null,
            "margin": null,
            "display": null,
            "left": null
          }
        },
        "2f68fb56b58b45c0a9a9dbe0adf60afd": {
          "model_module": "@jupyter-widgets/controls",
          "model_name": "HBoxModel",
          "model_module_version": "1.5.0",
          "state": {
            "_view_name": "HBoxView",
            "_dom_classes": [],
            "_model_name": "HBoxModel",
            "_view_module": "@jupyter-widgets/controls",
            "_model_module_version": "1.5.0",
            "_view_count": null,
            "_view_module_version": "1.5.0",
            "box_style": "",
            "layout": "IPY_MODEL_c966d85358d74b96a4dec724c84479f2",
            "_model_module": "@jupyter-widgets/controls",
            "children": [
              "IPY_MODEL_c323c84dd7bd4fa6a7ef35e9e2b8fc78",
              "IPY_MODEL_fd76328f37fc4e4bab3238ea3c661627",
              "IPY_MODEL_7b08cc731d954d03b4dd67c5422fb32f"
            ]
          }
        },
        "c966d85358d74b96a4dec724c84479f2": {
          "model_module": "@jupyter-widgets/base",
          "model_name": "LayoutModel",
          "model_module_version": "1.2.0",
          "state": {
            "_view_name": "LayoutView",
            "grid_template_rows": null,
            "right": null,
            "justify_content": null,
            "_view_module": "@jupyter-widgets/base",
            "overflow": null,
            "_model_module_version": "1.2.0",
            "_view_count": null,
            "flex_flow": null,
            "width": null,
            "min_width": null,
            "border": null,
            "align_items": null,
            "bottom": null,
            "_model_module": "@jupyter-widgets/base",
            "top": null,
            "grid_column": null,
            "overflow_y": null,
            "overflow_x": null,
            "grid_auto_flow": null,
            "grid_area": null,
            "grid_template_columns": null,
            "flex": null,
            "_model_name": "LayoutModel",
            "justify_items": null,
            "grid_row": null,
            "max_height": null,
            "align_content": null,
            "visibility": null,
            "align_self": null,
            "height": null,
            "min_height": null,
            "padding": null,
            "grid_auto_rows": null,
            "grid_gap": null,
            "max_width": null,
            "order": null,
            "_view_module_version": "1.2.0",
            "grid_template_areas": null,
            "object_position": null,
            "object_fit": null,
            "grid_auto_columns": null,
            "margin": null,
            "display": null,
            "left": null
          }
        },
        "c323c84dd7bd4fa6a7ef35e9e2b8fc78": {
          "model_module": "@jupyter-widgets/controls",
          "model_name": "HTMLModel",
          "model_module_version": "1.5.0",
          "state": {
            "_view_name": "HTMLView",
            "style": "IPY_MODEL_19813b34a75c4affac8a940a9a8881a0",
            "_dom_classes": [],
            "description": "",
            "_model_name": "HTMLModel",
            "placeholder": "​",
            "_view_module": "@jupyter-widgets/controls",
            "_model_module_version": "1.5.0",
            "value": "Downloading: 100%",
            "_view_count": null,
            "_view_module_version": "1.5.0",
            "description_tooltip": null,
            "_model_module": "@jupyter-widgets/controls",
            "layout": "IPY_MODEL_cf0c7302f2064d708e48ce5f59563e81"
          }
        },
        "fd76328f37fc4e4bab3238ea3c661627": {
          "model_module": "@jupyter-widgets/controls",
          "model_name": "FloatProgressModel",
          "model_module_version": "1.5.0",
          "state": {
            "_view_name": "ProgressView",
            "style": "IPY_MODEL_15a43987049145c5b0d9de3eaceeca2c",
            "_dom_classes": [],
            "description": "",
            "_model_name": "FloatProgressModel",
            "bar_style": "success",
            "max": 456318,
            "_view_module": "@jupyter-widgets/controls",
            "_model_module_version": "1.5.0",
            "value": 456318,
            "_view_count": null,
            "_view_module_version": "1.5.0",
            "orientation": "horizontal",
            "min": 0,
            "description_tooltip": null,
            "_model_module": "@jupyter-widgets/controls",
            "layout": "IPY_MODEL_6f6afa90d59d43c382ac43c2d4de77b4"
          }
        },
        "7b08cc731d954d03b4dd67c5422fb32f": {
          "model_module": "@jupyter-widgets/controls",
          "model_name": "HTMLModel",
          "model_module_version": "1.5.0",
          "state": {
            "_view_name": "HTMLView",
            "style": "IPY_MODEL_125f6a489af74eb0a6abf3767f8b37a7",
            "_dom_classes": [],
            "description": "",
            "_model_name": "HTMLModel",
            "placeholder": "​",
            "_view_module": "@jupyter-widgets/controls",
            "_model_module_version": "1.5.0",
            "value": " 456k/456k [00:00&lt;00:00, 8.35MB/s]",
            "_view_count": null,
            "_view_module_version": "1.5.0",
            "description_tooltip": null,
            "_model_module": "@jupyter-widgets/controls",
            "layout": "IPY_MODEL_5373fb6118a144bd959e73ede268a343"
          }
        },
        "19813b34a75c4affac8a940a9a8881a0": {
          "model_module": "@jupyter-widgets/controls",
          "model_name": "DescriptionStyleModel",
          "model_module_version": "1.5.0",
          "state": {
            "_view_name": "StyleView",
            "_model_name": "DescriptionStyleModel",
            "description_width": "",
            "_view_module": "@jupyter-widgets/base",
            "_model_module_version": "1.5.0",
            "_view_count": null,
            "_view_module_version": "1.2.0",
            "_model_module": "@jupyter-widgets/controls"
          }
        },
        "cf0c7302f2064d708e48ce5f59563e81": {
          "model_module": "@jupyter-widgets/base",
          "model_name": "LayoutModel",
          "model_module_version": "1.2.0",
          "state": {
            "_view_name": "LayoutView",
            "grid_template_rows": null,
            "right": null,
            "justify_content": null,
            "_view_module": "@jupyter-widgets/base",
            "overflow": null,
            "_model_module_version": "1.2.0",
            "_view_count": null,
            "flex_flow": null,
            "width": null,
            "min_width": null,
            "border": null,
            "align_items": null,
            "bottom": null,
            "_model_module": "@jupyter-widgets/base",
            "top": null,
            "grid_column": null,
            "overflow_y": null,
            "overflow_x": null,
            "grid_auto_flow": null,
            "grid_area": null,
            "grid_template_columns": null,
            "flex": null,
            "_model_name": "LayoutModel",
            "justify_items": null,
            "grid_row": null,
            "max_height": null,
            "align_content": null,
            "visibility": null,
            "align_self": null,
            "height": null,
            "min_height": null,
            "padding": null,
            "grid_auto_rows": null,
            "grid_gap": null,
            "max_width": null,
            "order": null,
            "_view_module_version": "1.2.0",
            "grid_template_areas": null,
            "object_position": null,
            "object_fit": null,
            "grid_auto_columns": null,
            "margin": null,
            "display": null,
            "left": null
          }
        },
        "15a43987049145c5b0d9de3eaceeca2c": {
          "model_module": "@jupyter-widgets/controls",
          "model_name": "ProgressStyleModel",
          "model_module_version": "1.5.0",
          "state": {
            "_view_name": "StyleView",
            "_model_name": "ProgressStyleModel",
            "description_width": "",
            "_view_module": "@jupyter-widgets/base",
            "_model_module_version": "1.5.0",
            "_view_count": null,
            "_view_module_version": "1.2.0",
            "bar_color": null,
            "_model_module": "@jupyter-widgets/controls"
          }
        },
        "6f6afa90d59d43c382ac43c2d4de77b4": {
          "model_module": "@jupyter-widgets/base",
          "model_name": "LayoutModel",
          "model_module_version": "1.2.0",
          "state": {
            "_view_name": "LayoutView",
            "grid_template_rows": null,
            "right": null,
            "justify_content": null,
            "_view_module": "@jupyter-widgets/base",
            "overflow": null,
            "_model_module_version": "1.2.0",
            "_view_count": null,
            "flex_flow": null,
            "width": null,
            "min_width": null,
            "border": null,
            "align_items": null,
            "bottom": null,
            "_model_module": "@jupyter-widgets/base",
            "top": null,
            "grid_column": null,
            "overflow_y": null,
            "overflow_x": null,
            "grid_auto_flow": null,
            "grid_area": null,
            "grid_template_columns": null,
            "flex": null,
            "_model_name": "LayoutModel",
            "justify_items": null,
            "grid_row": null,
            "max_height": null,
            "align_content": null,
            "visibility": null,
            "align_self": null,
            "height": null,
            "min_height": null,
            "padding": null,
            "grid_auto_rows": null,
            "grid_gap": null,
            "max_width": null,
            "order": null,
            "_view_module_version": "1.2.0",
            "grid_template_areas": null,
            "object_position": null,
            "object_fit": null,
            "grid_auto_columns": null,
            "margin": null,
            "display": null,
            "left": null
          }
        },
        "125f6a489af74eb0a6abf3767f8b37a7": {
          "model_module": "@jupyter-widgets/controls",
          "model_name": "DescriptionStyleModel",
          "model_module_version": "1.5.0",
          "state": {
            "_view_name": "StyleView",
            "_model_name": "DescriptionStyleModel",
            "description_width": "",
            "_view_module": "@jupyter-widgets/base",
            "_model_module_version": "1.5.0",
            "_view_count": null,
            "_view_module_version": "1.2.0",
            "_model_module": "@jupyter-widgets/controls"
          }
        },
        "5373fb6118a144bd959e73ede268a343": {
          "model_module": "@jupyter-widgets/base",
          "model_name": "LayoutModel",
          "model_module_version": "1.2.0",
          "state": {
            "_view_name": "LayoutView",
            "grid_template_rows": null,
            "right": null,
            "justify_content": null,
            "_view_module": "@jupyter-widgets/base",
            "overflow": null,
            "_model_module_version": "1.2.0",
            "_view_count": null,
            "flex_flow": null,
            "width": null,
            "min_width": null,
            "border": null,
            "align_items": null,
            "bottom": null,
            "_model_module": "@jupyter-widgets/base",
            "top": null,
            "grid_column": null,
            "overflow_y": null,
            "overflow_x": null,
            "grid_auto_flow": null,
            "grid_area": null,
            "grid_template_columns": null,
            "flex": null,
            "_model_name": "LayoutModel",
            "justify_items": null,
            "grid_row": null,
            "max_height": null,
            "align_content": null,
            "visibility": null,
            "align_self": null,
            "height": null,
            "min_height": null,
            "padding": null,
            "grid_auto_rows": null,
            "grid_gap": null,
            "max_width": null,
            "order": null,
            "_view_module_version": "1.2.0",
            "grid_template_areas": null,
            "object_position": null,
            "object_fit": null,
            "grid_auto_columns": null,
            "margin": null,
            "display": null,
            "left": null
          }
        },
        "8b85d43bac534dbca12a55fddb3a63e9": {
          "model_module": "@jupyter-widgets/controls",
          "model_name": "HBoxModel",
          "model_module_version": "1.5.0",
          "state": {
            "_view_name": "HBoxView",
            "_dom_classes": [],
            "_model_name": "HBoxModel",
            "_view_module": "@jupyter-widgets/controls",
            "_model_module_version": "1.5.0",
            "_view_count": null,
            "_view_module_version": "1.5.0",
            "box_style": "",
            "layout": "IPY_MODEL_1c9703dcd249495289fb441f6b9c6581",
            "_model_module": "@jupyter-widgets/controls",
            "children": [
              "IPY_MODEL_0a347f12b55149408610a8c3e676aada",
              "IPY_MODEL_201052ffe13e42e182003521f576983e",
              "IPY_MODEL_be5915e28360448c8b375d3f9686d748"
            ]
          }
        },
        "1c9703dcd249495289fb441f6b9c6581": {
          "model_module": "@jupyter-widgets/base",
          "model_name": "LayoutModel",
          "model_module_version": "1.2.0",
          "state": {
            "_view_name": "LayoutView",
            "grid_template_rows": null,
            "right": null,
            "justify_content": null,
            "_view_module": "@jupyter-widgets/base",
            "overflow": null,
            "_model_module_version": "1.2.0",
            "_view_count": null,
            "flex_flow": null,
            "width": null,
            "min_width": null,
            "border": null,
            "align_items": null,
            "bottom": null,
            "_model_module": "@jupyter-widgets/base",
            "top": null,
            "grid_column": null,
            "overflow_y": null,
            "overflow_x": null,
            "grid_auto_flow": null,
            "grid_area": null,
            "grid_template_columns": null,
            "flex": null,
            "_model_name": "LayoutModel",
            "justify_items": null,
            "grid_row": null,
            "max_height": null,
            "align_content": null,
            "visibility": null,
            "align_self": null,
            "height": null,
            "min_height": null,
            "padding": null,
            "grid_auto_rows": null,
            "grid_gap": null,
            "max_width": null,
            "order": null,
            "_view_module_version": "1.2.0",
            "grid_template_areas": null,
            "object_position": null,
            "object_fit": null,
            "grid_auto_columns": null,
            "margin": null,
            "display": null,
            "left": null
          }
        },
        "0a347f12b55149408610a8c3e676aada": {
          "model_module": "@jupyter-widgets/controls",
          "model_name": "HTMLModel",
          "model_module_version": "1.5.0",
          "state": {
            "_view_name": "HTMLView",
            "style": "IPY_MODEL_00ee3c752e214e50b9e39ab6fd199c28",
            "_dom_classes": [],
            "description": "",
            "_model_name": "HTMLModel",
            "placeholder": "​",
            "_view_module": "@jupyter-widgets/controls",
            "_model_module_version": "1.5.0",
            "value": "Downloading: 100%",
            "_view_count": null,
            "_view_module_version": "1.5.0",
            "description_tooltip": null,
            "_model_module": "@jupyter-widgets/controls",
            "layout": "IPY_MODEL_95e129d0046442fc85695d4c83e71b69"
          }
        },
        "201052ffe13e42e182003521f576983e": {
          "model_module": "@jupyter-widgets/controls",
          "model_name": "FloatProgressModel",
          "model_module_version": "1.5.0",
          "state": {
            "_view_name": "ProgressView",
            "style": "IPY_MODEL_a417cead8b43462995f76a18a0e306d2",
            "_dom_classes": [],
            "description": "",
            "_model_name": "FloatProgressModel",
            "bar_style": "success",
            "max": 772,
            "_view_module": "@jupyter-widgets/controls",
            "_model_module_version": "1.5.0",
            "value": 772,
            "_view_count": null,
            "_view_module_version": "1.5.0",
            "orientation": "horizontal",
            "min": 0,
            "description_tooltip": null,
            "_model_module": "@jupyter-widgets/controls",
            "layout": "IPY_MODEL_2f7a0e78add6486184e832ac6b41982b"
          }
        },
        "be5915e28360448c8b375d3f9686d748": {
          "model_module": "@jupyter-widgets/controls",
          "model_name": "HTMLModel",
          "model_module_version": "1.5.0",
          "state": {
            "_view_name": "HTMLView",
            "style": "IPY_MODEL_acfa5be4e95e4f0db5c76a5bccf28c86",
            "_dom_classes": [],
            "description": "",
            "_model_name": "HTMLModel",
            "placeholder": "​",
            "_view_module": "@jupyter-widgets/controls",
            "_model_module_version": "1.5.0",
            "value": " 772/772 [00:00&lt;00:00, 24.2kB/s]",
            "_view_count": null,
            "_view_module_version": "1.5.0",
            "description_tooltip": null,
            "_model_module": "@jupyter-widgets/controls",
            "layout": "IPY_MODEL_d7431dee6ca84195b1e59946405287aa"
          }
        },
        "00ee3c752e214e50b9e39ab6fd199c28": {
          "model_module": "@jupyter-widgets/controls",
          "model_name": "DescriptionStyleModel",
          "model_module_version": "1.5.0",
          "state": {
            "_view_name": "StyleView",
            "_model_name": "DescriptionStyleModel",
            "description_width": "",
            "_view_module": "@jupyter-widgets/base",
            "_model_module_version": "1.5.0",
            "_view_count": null,
            "_view_module_version": "1.2.0",
            "_model_module": "@jupyter-widgets/controls"
          }
        },
        "95e129d0046442fc85695d4c83e71b69": {
          "model_module": "@jupyter-widgets/base",
          "model_name": "LayoutModel",
          "model_module_version": "1.2.0",
          "state": {
            "_view_name": "LayoutView",
            "grid_template_rows": null,
            "right": null,
            "justify_content": null,
            "_view_module": "@jupyter-widgets/base",
            "overflow": null,
            "_model_module_version": "1.2.0",
            "_view_count": null,
            "flex_flow": null,
            "width": null,
            "min_width": null,
            "border": null,
            "align_items": null,
            "bottom": null,
            "_model_module": "@jupyter-widgets/base",
            "top": null,
            "grid_column": null,
            "overflow_y": null,
            "overflow_x": null,
            "grid_auto_flow": null,
            "grid_area": null,
            "grid_template_columns": null,
            "flex": null,
            "_model_name": "LayoutModel",
            "justify_items": null,
            "grid_row": null,
            "max_height": null,
            "align_content": null,
            "visibility": null,
            "align_self": null,
            "height": null,
            "min_height": null,
            "padding": null,
            "grid_auto_rows": null,
            "grid_gap": null,
            "max_width": null,
            "order": null,
            "_view_module_version": "1.2.0",
            "grid_template_areas": null,
            "object_position": null,
            "object_fit": null,
            "grid_auto_columns": null,
            "margin": null,
            "display": null,
            "left": null
          }
        },
        "a417cead8b43462995f76a18a0e306d2": {
          "model_module": "@jupyter-widgets/controls",
          "model_name": "ProgressStyleModel",
          "model_module_version": "1.5.0",
          "state": {
            "_view_name": "StyleView",
            "_model_name": "ProgressStyleModel",
            "description_width": "",
            "_view_module": "@jupyter-widgets/base",
            "_model_module_version": "1.5.0",
            "_view_count": null,
            "_view_module_version": "1.2.0",
            "bar_color": null,
            "_model_module": "@jupyter-widgets/controls"
          }
        },
        "2f7a0e78add6486184e832ac6b41982b": {
          "model_module": "@jupyter-widgets/base",
          "model_name": "LayoutModel",
          "model_module_version": "1.2.0",
          "state": {
            "_view_name": "LayoutView",
            "grid_template_rows": null,
            "right": null,
            "justify_content": null,
            "_view_module": "@jupyter-widgets/base",
            "overflow": null,
            "_model_module_version": "1.2.0",
            "_view_count": null,
            "flex_flow": null,
            "width": null,
            "min_width": null,
            "border": null,
            "align_items": null,
            "bottom": null,
            "_model_module": "@jupyter-widgets/base",
            "top": null,
            "grid_column": null,
            "overflow_y": null,
            "overflow_x": null,
            "grid_auto_flow": null,
            "grid_area": null,
            "grid_template_columns": null,
            "flex": null,
            "_model_name": "LayoutModel",
            "justify_items": null,
            "grid_row": null,
            "max_height": null,
            "align_content": null,
            "visibility": null,
            "align_self": null,
            "height": null,
            "min_height": null,
            "padding": null,
            "grid_auto_rows": null,
            "grid_gap": null,
            "max_width": null,
            "order": null,
            "_view_module_version": "1.2.0",
            "grid_template_areas": null,
            "object_position": null,
            "object_fit": null,
            "grid_auto_columns": null,
            "margin": null,
            "display": null,
            "left": null
          }
        },
        "acfa5be4e95e4f0db5c76a5bccf28c86": {
          "model_module": "@jupyter-widgets/controls",
          "model_name": "DescriptionStyleModel",
          "model_module_version": "1.5.0",
          "state": {
            "_view_name": "StyleView",
            "_model_name": "DescriptionStyleModel",
            "description_width": "",
            "_view_module": "@jupyter-widgets/base",
            "_model_module_version": "1.5.0",
            "_view_count": null,
            "_view_module_version": "1.2.0",
            "_model_module": "@jupyter-widgets/controls"
          }
        },
        "d7431dee6ca84195b1e59946405287aa": {
          "model_module": "@jupyter-widgets/base",
          "model_name": "LayoutModel",
          "model_module_version": "1.2.0",
          "state": {
            "_view_name": "LayoutView",
            "grid_template_rows": null,
            "right": null,
            "justify_content": null,
            "_view_module": "@jupyter-widgets/base",
            "overflow": null,
            "_model_module_version": "1.2.0",
            "_view_count": null,
            "flex_flow": null,
            "width": null,
            "min_width": null,
            "border": null,
            "align_items": null,
            "bottom": null,
            "_model_module": "@jupyter-widgets/base",
            "top": null,
            "grid_column": null,
            "overflow_y": null,
            "overflow_x": null,
            "grid_auto_flow": null,
            "grid_area": null,
            "grid_template_columns": null,
            "flex": null,
            "_model_name": "LayoutModel",
            "justify_items": null,
            "grid_row": null,
            "max_height": null,
            "align_content": null,
            "visibility": null,
            "align_self": null,
            "height": null,
            "min_height": null,
            "padding": null,
            "grid_auto_rows": null,
            "grid_gap": null,
            "max_width": null,
            "order": null,
            "_view_module_version": "1.2.0",
            "grid_template_areas": null,
            "object_position": null,
            "object_fit": null,
            "grid_auto_columns": null,
            "margin": null,
            "display": null,
            "left": null
          }
        },
        "67acf4d8d3ff49c2956efdc7fcf59522": {
          "model_module": "@jupyter-widgets/controls",
          "model_name": "HBoxModel",
          "model_module_version": "1.5.0",
          "state": {
            "_view_name": "HBoxView",
            "_dom_classes": [],
            "_model_name": "HBoxModel",
            "_view_module": "@jupyter-widgets/controls",
            "_model_module_version": "1.5.0",
            "_view_count": null,
            "_view_module_version": "1.5.0",
            "box_style": "",
            "layout": "IPY_MODEL_4f43a739792a4df8844400205efc7915",
            "_model_module": "@jupyter-widgets/controls",
            "children": [
              "IPY_MODEL_9079edba0e854e3890cb4277d975cd01",
              "IPY_MODEL_96e565f0d16a4382b1d04868e93e6752",
              "IPY_MODEL_efa678132ded464090edbc6857765b16"
            ]
          }
        },
        "4f43a739792a4df8844400205efc7915": {
          "model_module": "@jupyter-widgets/base",
          "model_name": "LayoutModel",
          "model_module_version": "1.2.0",
          "state": {
            "_view_name": "LayoutView",
            "grid_template_rows": null,
            "right": null,
            "justify_content": null,
            "_view_module": "@jupyter-widgets/base",
            "overflow": null,
            "_model_module_version": "1.2.0",
            "_view_count": null,
            "flex_flow": null,
            "width": null,
            "min_width": null,
            "border": null,
            "align_items": null,
            "bottom": null,
            "_model_module": "@jupyter-widgets/base",
            "top": null,
            "grid_column": null,
            "overflow_y": null,
            "overflow_x": null,
            "grid_auto_flow": null,
            "grid_area": null,
            "grid_template_columns": null,
            "flex": null,
            "_model_name": "LayoutModel",
            "justify_items": null,
            "grid_row": null,
            "max_height": null,
            "align_content": null,
            "visibility": null,
            "align_self": null,
            "height": null,
            "min_height": null,
            "padding": null,
            "grid_auto_rows": null,
            "grid_gap": null,
            "max_width": null,
            "order": null,
            "_view_module_version": "1.2.0",
            "grid_template_areas": null,
            "object_position": null,
            "object_fit": null,
            "grid_auto_columns": null,
            "margin": null,
            "display": null,
            "left": null
          }
        },
        "9079edba0e854e3890cb4277d975cd01": {
          "model_module": "@jupyter-widgets/controls",
          "model_name": "HTMLModel",
          "model_module_version": "1.5.0",
          "state": {
            "_view_name": "HTMLView",
            "style": "IPY_MODEL_65357d28d5fe434cad0621e8ccac0cdf",
            "_dom_classes": [],
            "description": "",
            "_model_name": "HTMLModel",
            "placeholder": "​",
            "_view_module": "@jupyter-widgets/controls",
            "_model_module_version": "1.5.0",
            "value": "Downloading: 100%",
            "_view_count": null,
            "_view_module_version": "1.5.0",
            "description_tooltip": null,
            "_model_module": "@jupyter-widgets/controls",
            "layout": "IPY_MODEL_fd1b2cd7b5c0499c87c9e9648107be74"
          }
        },
        "96e565f0d16a4382b1d04868e93e6752": {
          "model_module": "@jupyter-widgets/controls",
          "model_name": "FloatProgressModel",
          "model_module_version": "1.5.0",
          "state": {
            "_view_name": "ProgressView",
            "style": "IPY_MODEL_4557684aa57645b1a979bd3b7dbb252f",
            "_dom_classes": [],
            "description": "",
            "_model_name": "FloatProgressModel",
            "bar_style": "success",
            "max": 49,
            "_view_module": "@jupyter-widgets/controls",
            "_model_module_version": "1.5.0",
            "value": 49,
            "_view_count": null,
            "_view_module_version": "1.5.0",
            "orientation": "horizontal",
            "min": 0,
            "description_tooltip": null,
            "_model_module": "@jupyter-widgets/controls",
            "layout": "IPY_MODEL_682cd3681e1a48809c36ba0946f4690e"
          }
        },
        "efa678132ded464090edbc6857765b16": {
          "model_module": "@jupyter-widgets/controls",
          "model_name": "HTMLModel",
          "model_module_version": "1.5.0",
          "state": {
            "_view_name": "HTMLView",
            "style": "IPY_MODEL_6e34b5202d0d4f3c9fc5fede69890420",
            "_dom_classes": [],
            "description": "",
            "_model_name": "HTMLModel",
            "placeholder": "​",
            "_view_module": "@jupyter-widgets/controls",
            "_model_module_version": "1.5.0",
            "value": " 49.0/49.0 [00:00&lt;00:00, 1.92kB/s]",
            "_view_count": null,
            "_view_module_version": "1.5.0",
            "description_tooltip": null,
            "_model_module": "@jupyter-widgets/controls",
            "layout": "IPY_MODEL_91d0b74832bd443d9b2010ef0945e61d"
          }
        },
        "65357d28d5fe434cad0621e8ccac0cdf": {
          "model_module": "@jupyter-widgets/controls",
          "model_name": "DescriptionStyleModel",
          "model_module_version": "1.5.0",
          "state": {
            "_view_name": "StyleView",
            "_model_name": "DescriptionStyleModel",
            "description_width": "",
            "_view_module": "@jupyter-widgets/base",
            "_model_module_version": "1.5.0",
            "_view_count": null,
            "_view_module_version": "1.2.0",
            "_model_module": "@jupyter-widgets/controls"
          }
        },
        "fd1b2cd7b5c0499c87c9e9648107be74": {
          "model_module": "@jupyter-widgets/base",
          "model_name": "LayoutModel",
          "model_module_version": "1.2.0",
          "state": {
            "_view_name": "LayoutView",
            "grid_template_rows": null,
            "right": null,
            "justify_content": null,
            "_view_module": "@jupyter-widgets/base",
            "overflow": null,
            "_model_module_version": "1.2.0",
            "_view_count": null,
            "flex_flow": null,
            "width": null,
            "min_width": null,
            "border": null,
            "align_items": null,
            "bottom": null,
            "_model_module": "@jupyter-widgets/base",
            "top": null,
            "grid_column": null,
            "overflow_y": null,
            "overflow_x": null,
            "grid_auto_flow": null,
            "grid_area": null,
            "grid_template_columns": null,
            "flex": null,
            "_model_name": "LayoutModel",
            "justify_items": null,
            "grid_row": null,
            "max_height": null,
            "align_content": null,
            "visibility": null,
            "align_self": null,
            "height": null,
            "min_height": null,
            "padding": null,
            "grid_auto_rows": null,
            "grid_gap": null,
            "max_width": null,
            "order": null,
            "_view_module_version": "1.2.0",
            "grid_template_areas": null,
            "object_position": null,
            "object_fit": null,
            "grid_auto_columns": null,
            "margin": null,
            "display": null,
            "left": null
          }
        },
        "4557684aa57645b1a979bd3b7dbb252f": {
          "model_module": "@jupyter-widgets/controls",
          "model_name": "ProgressStyleModel",
          "model_module_version": "1.5.0",
          "state": {
            "_view_name": "StyleView",
            "_model_name": "ProgressStyleModel",
            "description_width": "",
            "_view_module": "@jupyter-widgets/base",
            "_model_module_version": "1.5.0",
            "_view_count": null,
            "_view_module_version": "1.2.0",
            "bar_color": null,
            "_model_module": "@jupyter-widgets/controls"
          }
        },
        "682cd3681e1a48809c36ba0946f4690e": {
          "model_module": "@jupyter-widgets/base",
          "model_name": "LayoutModel",
          "model_module_version": "1.2.0",
          "state": {
            "_view_name": "LayoutView",
            "grid_template_rows": null,
            "right": null,
            "justify_content": null,
            "_view_module": "@jupyter-widgets/base",
            "overflow": null,
            "_model_module_version": "1.2.0",
            "_view_count": null,
            "flex_flow": null,
            "width": null,
            "min_width": null,
            "border": null,
            "align_items": null,
            "bottom": null,
            "_model_module": "@jupyter-widgets/base",
            "top": null,
            "grid_column": null,
            "overflow_y": null,
            "overflow_x": null,
            "grid_auto_flow": null,
            "grid_area": null,
            "grid_template_columns": null,
            "flex": null,
            "_model_name": "LayoutModel",
            "justify_items": null,
            "grid_row": null,
            "max_height": null,
            "align_content": null,
            "visibility": null,
            "align_self": null,
            "height": null,
            "min_height": null,
            "padding": null,
            "grid_auto_rows": null,
            "grid_gap": null,
            "max_width": null,
            "order": null,
            "_view_module_version": "1.2.0",
            "grid_template_areas": null,
            "object_position": null,
            "object_fit": null,
            "grid_auto_columns": null,
            "margin": null,
            "display": null,
            "left": null
          }
        },
        "6e34b5202d0d4f3c9fc5fede69890420": {
          "model_module": "@jupyter-widgets/controls",
          "model_name": "DescriptionStyleModel",
          "model_module_version": "1.5.0",
          "state": {
            "_view_name": "StyleView",
            "_model_name": "DescriptionStyleModel",
            "description_width": "",
            "_view_module": "@jupyter-widgets/base",
            "_model_module_version": "1.5.0",
            "_view_count": null,
            "_view_module_version": "1.2.0",
            "_model_module": "@jupyter-widgets/controls"
          }
        },
        "91d0b74832bd443d9b2010ef0945e61d": {
          "model_module": "@jupyter-widgets/base",
          "model_name": "LayoutModel",
          "model_module_version": "1.2.0",
          "state": {
            "_view_name": "LayoutView",
            "grid_template_rows": null,
            "right": null,
            "justify_content": null,
            "_view_module": "@jupyter-widgets/base",
            "overflow": null,
            "_model_module_version": "1.2.0",
            "_view_count": null,
            "flex_flow": null,
            "width": null,
            "min_width": null,
            "border": null,
            "align_items": null,
            "bottom": null,
            "_model_module": "@jupyter-widgets/base",
            "top": null,
            "grid_column": null,
            "overflow_y": null,
            "overflow_x": null,
            "grid_auto_flow": null,
            "grid_area": null,
            "grid_template_columns": null,
            "flex": null,
            "_model_name": "LayoutModel",
            "justify_items": null,
            "grid_row": null,
            "max_height": null,
            "align_content": null,
            "visibility": null,
            "align_self": null,
            "height": null,
            "min_height": null,
            "padding": null,
            "grid_auto_rows": null,
            "grid_gap": null,
            "max_width": null,
            "order": null,
            "_view_module_version": "1.2.0",
            "grid_template_areas": null,
            "object_position": null,
            "object_fit": null,
            "grid_auto_columns": null,
            "margin": null,
            "display": null,
            "left": null
          }
        }
      }
    }
  },
  "cells": [
    {
      "cell_type": "code",
      "source": [
        "#!pip install cloud-tpu-client==0.10 torch==1.9.0 https://storage.googleapis.com/tpu-pytorch/wheels/torch_xla-1.9-cp37-cp37m-linux_x86_64.whl\n",
        "!pip install transformers==4.1.1"
      ],
      "metadata": {
        "colab": {
          "base_uri": "https://localhost:8080/"
        },
        "id": "oKAn4-ccuJ_p",
        "outputId": "ee6db0d2-0c42-4930-f463-aa775d8aeb67"
      },
      "execution_count": null,
      "outputs": [
        {
          "output_type": "stream",
          "name": "stdout",
          "text": [
            "Collecting transformers==4.1.1\n",
            "  Downloading transformers-4.1.1-py3-none-any.whl (1.5 MB)\n",
            "\u001b[?25l\r\u001b[K     |▏                               | 10 kB 38.7 MB/s eta 0:00:01\r\u001b[K     |▍                               | 20 kB 43.9 MB/s eta 0:00:01\r\u001b[K     |▋                               | 30 kB 47.5 MB/s eta 0:00:01\r\u001b[K     |▉                               | 40 kB 51.1 MB/s eta 0:00:01\r\u001b[K     |█                               | 51 kB 29.9 MB/s eta 0:00:01\r\u001b[K     |█▎                              | 61 kB 33.0 MB/s eta 0:00:01\r\u001b[K     |█▌                              | 71 kB 23.4 MB/s eta 0:00:01\r\u001b[K     |█▊                              | 81 kB 25.2 MB/s eta 0:00:01\r\u001b[K     |██                              | 92 kB 27.1 MB/s eta 0:00:01\r\u001b[K     |██▏                             | 102 kB 25.8 MB/s eta 0:00:01\r\u001b[K     |██▍                             | 112 kB 25.8 MB/s eta 0:00:01\r\u001b[K     |██▋                             | 122 kB 25.8 MB/s eta 0:00:01\r\u001b[K     |██▉                             | 133 kB 25.8 MB/s eta 0:00:01\r\u001b[K     |███                             | 143 kB 25.8 MB/s eta 0:00:01\r\u001b[K     |███▎                            | 153 kB 25.8 MB/s eta 0:00:01\r\u001b[K     |███▌                            | 163 kB 25.8 MB/s eta 0:00:01\r\u001b[K     |███▊                            | 174 kB 25.8 MB/s eta 0:00:01\r\u001b[K     |████                            | 184 kB 25.8 MB/s eta 0:00:01\r\u001b[K     |████▏                           | 194 kB 25.8 MB/s eta 0:00:01\r\u001b[K     |████▎                           | 204 kB 25.8 MB/s eta 0:00:01\r\u001b[K     |████▌                           | 215 kB 25.8 MB/s eta 0:00:01\r\u001b[K     |████▊                           | 225 kB 25.8 MB/s eta 0:00:01\r\u001b[K     |█████                           | 235 kB 25.8 MB/s eta 0:00:01\r\u001b[K     |█████▏                          | 245 kB 25.8 MB/s eta 0:00:01\r\u001b[K     |█████▍                          | 256 kB 25.8 MB/s eta 0:00:01\r\u001b[K     |█████▋                          | 266 kB 25.8 MB/s eta 0:00:01\r\u001b[K     |█████▉                          | 276 kB 25.8 MB/s eta 0:00:01\r\u001b[K     |██████                          | 286 kB 25.8 MB/s eta 0:00:01\r\u001b[K     |██████▎                         | 296 kB 25.8 MB/s eta 0:00:01\r\u001b[K     |██████▌                         | 307 kB 25.8 MB/s eta 0:00:01\r\u001b[K     |██████▊                         | 317 kB 25.8 MB/s eta 0:00:01\r\u001b[K     |███████                         | 327 kB 25.8 MB/s eta 0:00:01\r\u001b[K     |███████▏                        | 337 kB 25.8 MB/s eta 0:00:01\r\u001b[K     |███████▍                        | 348 kB 25.8 MB/s eta 0:00:01\r\u001b[K     |███████▋                        | 358 kB 25.8 MB/s eta 0:00:01\r\u001b[K     |███████▉                        | 368 kB 25.8 MB/s eta 0:00:01\r\u001b[K     |████████                        | 378 kB 25.8 MB/s eta 0:00:01\r\u001b[K     |████████▎                       | 389 kB 25.8 MB/s eta 0:00:01\r\u001b[K     |████████▌                       | 399 kB 25.8 MB/s eta 0:00:01\r\u001b[K     |████████▋                       | 409 kB 25.8 MB/s eta 0:00:01\r\u001b[K     |████████▉                       | 419 kB 25.8 MB/s eta 0:00:01\r\u001b[K     |█████████                       | 430 kB 25.8 MB/s eta 0:00:01\r\u001b[K     |█████████▎                      | 440 kB 25.8 MB/s eta 0:00:01\r\u001b[K     |█████████▌                      | 450 kB 25.8 MB/s eta 0:00:01\r\u001b[K     |█████████▊                      | 460 kB 25.8 MB/s eta 0:00:01\r\u001b[K     |██████████                      | 471 kB 25.8 MB/s eta 0:00:01\r\u001b[K     |██████████▏                     | 481 kB 25.8 MB/s eta 0:00:01\r\u001b[K     |██████████▍                     | 491 kB 25.8 MB/s eta 0:00:01\r\u001b[K     |██████████▋                     | 501 kB 25.8 MB/s eta 0:00:01\r\u001b[K     |██████████▉                     | 512 kB 25.8 MB/s eta 0:00:01\r\u001b[K     |███████████                     | 522 kB 25.8 MB/s eta 0:00:01\r\u001b[K     |███████████▎                    | 532 kB 25.8 MB/s eta 0:00:01\r\u001b[K     |███████████▌                    | 542 kB 25.8 MB/s eta 0:00:01\r\u001b[K     |███████████▊                    | 552 kB 25.8 MB/s eta 0:00:01\r\u001b[K     |████████████                    | 563 kB 25.8 MB/s eta 0:00:01\r\u001b[K     |████████████▏                   | 573 kB 25.8 MB/s eta 0:00:01\r\u001b[K     |████████████▍                   | 583 kB 25.8 MB/s eta 0:00:01\r\u001b[K     |████████████▋                   | 593 kB 25.8 MB/s eta 0:00:01\r\u001b[K     |████████████▉                   | 604 kB 25.8 MB/s eta 0:00:01\r\u001b[K     |█████████████                   | 614 kB 25.8 MB/s eta 0:00:01\r\u001b[K     |█████████████▏                  | 624 kB 25.8 MB/s eta 0:00:01\r\u001b[K     |█████████████▍                  | 634 kB 25.8 MB/s eta 0:00:01\r\u001b[K     |█████████████▋                  | 645 kB 25.8 MB/s eta 0:00:01\r\u001b[K     |█████████████▉                  | 655 kB 25.8 MB/s eta 0:00:01\r\u001b[K     |██████████████                  | 665 kB 25.8 MB/s eta 0:00:01\r\u001b[K     |██████████████▎                 | 675 kB 25.8 MB/s eta 0:00:01\r\u001b[K     |██████████████▌                 | 686 kB 25.8 MB/s eta 0:00:01\r\u001b[K     |██████████████▊                 | 696 kB 25.8 MB/s eta 0:00:01\r\u001b[K     |███████████████                 | 706 kB 25.8 MB/s eta 0:00:01\r\u001b[K     |███████████████▏                | 716 kB 25.8 MB/s eta 0:00:01\r\u001b[K     |███████████████▍                | 727 kB 25.8 MB/s eta 0:00:01\r\u001b[K     |███████████████▋                | 737 kB 25.8 MB/s eta 0:00:01\r\u001b[K     |███████████████▉                | 747 kB 25.8 MB/s eta 0:00:01\r\u001b[K     |████████████████                | 757 kB 25.8 MB/s eta 0:00:01\r\u001b[K     |████████████████▎               | 768 kB 25.8 MB/s eta 0:00:01\r\u001b[K     |████████████████▌               | 778 kB 25.8 MB/s eta 0:00:01\r\u001b[K     |████████████████▊               | 788 kB 25.8 MB/s eta 0:00:01\r\u001b[K     |█████████████████               | 798 kB 25.8 MB/s eta 0:00:01\r\u001b[K     |█████████████████               | 808 kB 25.8 MB/s eta 0:00:01\r\u001b[K     |█████████████████▎              | 819 kB 25.8 MB/s eta 0:00:01\r\u001b[K     |█████████████████▌              | 829 kB 25.8 MB/s eta 0:00:01\r\u001b[K     |█████████████████▊              | 839 kB 25.8 MB/s eta 0:00:01\r\u001b[K     |██████████████████              | 849 kB 25.8 MB/s eta 0:00:01\r\u001b[K     |██████████████████▏             | 860 kB 25.8 MB/s eta 0:00:01\r\u001b[K     |██████████████████▍             | 870 kB 25.8 MB/s eta 0:00:01\r\u001b[K     |██████████████████▋             | 880 kB 25.8 MB/s eta 0:00:01\r\u001b[K     |██████████████████▉             | 890 kB 25.8 MB/s eta 0:00:01\r\u001b[K     |███████████████████             | 901 kB 25.8 MB/s eta 0:00:01\r\u001b[K     |███████████████████▎            | 911 kB 25.8 MB/s eta 0:00:01\r\u001b[K     |███████████████████▌            | 921 kB 25.8 MB/s eta 0:00:01\r\u001b[K     |███████████████████▊            | 931 kB 25.8 MB/s eta 0:00:01\r\u001b[K     |████████████████████            | 942 kB 25.8 MB/s eta 0:00:01\r\u001b[K     |████████████████████▏           | 952 kB 25.8 MB/s eta 0:00:01\r\u001b[K     |████████████████████▍           | 962 kB 25.8 MB/s eta 0:00:01\r\u001b[K     |████████████████████▋           | 972 kB 25.8 MB/s eta 0:00:01\r\u001b[K     |████████████████████▉           | 983 kB 25.8 MB/s eta 0:00:01\r\u001b[K     |█████████████████████           | 993 kB 25.8 MB/s eta 0:00:01\r\u001b[K     |█████████████████████▎          | 1.0 MB 25.8 MB/s eta 0:00:01\r\u001b[K     |█████████████████████▍          | 1.0 MB 25.8 MB/s eta 0:00:01\r\u001b[K     |█████████████████████▋          | 1.0 MB 25.8 MB/s eta 0:00:01\r\u001b[K     |█████████████████████▉          | 1.0 MB 25.8 MB/s eta 0:00:01\r\u001b[K     |██████████████████████          | 1.0 MB 25.8 MB/s eta 0:00:01\r\u001b[K     |██████████████████████▎         | 1.1 MB 25.8 MB/s eta 0:00:01\r\u001b[K     |██████████████████████▌         | 1.1 MB 25.8 MB/s eta 0:00:01\r\u001b[K     |██████████████████████▊         | 1.1 MB 25.8 MB/s eta 0:00:01\r\u001b[K     |███████████████████████         | 1.1 MB 25.8 MB/s eta 0:00:01\r\u001b[K     |███████████████████████▏        | 1.1 MB 25.8 MB/s eta 0:00:01\r\u001b[K     |███████████████████████▍        | 1.1 MB 25.8 MB/s eta 0:00:01\r\u001b[K     |███████████████████████▋        | 1.1 MB 25.8 MB/s eta 0:00:01\r\u001b[K     |███████████████████████▉        | 1.1 MB 25.8 MB/s eta 0:00:01\r\u001b[K     |████████████████████████        | 1.1 MB 25.8 MB/s eta 0:00:01\r\u001b[K     |████████████████████████▎       | 1.1 MB 25.8 MB/s eta 0:00:01\r\u001b[K     |████████████████████████▌       | 1.2 MB 25.8 MB/s eta 0:00:01\r\u001b[K     |████████████████████████▊       | 1.2 MB 25.8 MB/s eta 0:00:01\r\u001b[K     |█████████████████████████       | 1.2 MB 25.8 MB/s eta 0:00:01\r\u001b[K     |█████████████████████████▏      | 1.2 MB 25.8 MB/s eta 0:00:01\r\u001b[K     |█████████████████████████▍      | 1.2 MB 25.8 MB/s eta 0:00:01\r\u001b[K     |█████████████████████████▋      | 1.2 MB 25.8 MB/s eta 0:00:01\r\u001b[K     |█████████████████████████▊      | 1.2 MB 25.8 MB/s eta 0:00:01\r\u001b[K     |██████████████████████████      | 1.2 MB 25.8 MB/s eta 0:00:01\r\u001b[K     |██████████████████████████▏     | 1.2 MB 25.8 MB/s eta 0:00:01\r\u001b[K     |██████████████████████████▍     | 1.2 MB 25.8 MB/s eta 0:00:01\r\u001b[K     |██████████████████████████▋     | 1.3 MB 25.8 MB/s eta 0:00:01\r\u001b[K     |██████████████████████████▉     | 1.3 MB 25.8 MB/s eta 0:00:01\r\u001b[K     |███████████████████████████     | 1.3 MB 25.8 MB/s eta 0:00:01\r\u001b[K     |███████████████████████████▎    | 1.3 MB 25.8 MB/s eta 0:00:01\r\u001b[K     |███████████████████████████▌    | 1.3 MB 25.8 MB/s eta 0:00:01\r\u001b[K     |███████████████████████████▊    | 1.3 MB 25.8 MB/s eta 0:00:01\r\u001b[K     |████████████████████████████    | 1.3 MB 25.8 MB/s eta 0:00:01\r\u001b[K     |████████████████████████████▏   | 1.3 MB 25.8 MB/s eta 0:00:01\r\u001b[K     |████████████████████████████▍   | 1.3 MB 25.8 MB/s eta 0:00:01\r\u001b[K     |████████████████████████████▋   | 1.4 MB 25.8 MB/s eta 0:00:01\r\u001b[K     |████████████████████████████▉   | 1.4 MB 25.8 MB/s eta 0:00:01\r\u001b[K     |█████████████████████████████   | 1.4 MB 25.8 MB/s eta 0:00:01\r\u001b[K     |█████████████████████████████▎  | 1.4 MB 25.8 MB/s eta 0:00:01\r\u001b[K     |█████████████████████████████▌  | 1.4 MB 25.8 MB/s eta 0:00:01\r\u001b[K     |█████████████████████████████▊  | 1.4 MB 25.8 MB/s eta 0:00:01\r\u001b[K     |█████████████████████████████▉  | 1.4 MB 25.8 MB/s eta 0:00:01\r\u001b[K     |██████████████████████████████  | 1.4 MB 25.8 MB/s eta 0:00:01\r\u001b[K     |██████████████████████████████▎ | 1.4 MB 25.8 MB/s eta 0:00:01\r\u001b[K     |██████████████████████████████▌ | 1.4 MB 25.8 MB/s eta 0:00:01\r\u001b[K     |██████████████████████████████▊ | 1.5 MB 25.8 MB/s eta 0:00:01\r\u001b[K     |███████████████████████████████ | 1.5 MB 25.8 MB/s eta 0:00:01\r\u001b[K     |███████████████████████████████▏| 1.5 MB 25.8 MB/s eta 0:00:01\r\u001b[K     |███████████████████████████████▍| 1.5 MB 25.8 MB/s eta 0:00:01\r\u001b[K     |███████████████████████████████▋| 1.5 MB 25.8 MB/s eta 0:00:01\r\u001b[K     |███████████████████████████████▉| 1.5 MB 25.8 MB/s eta 0:00:01\r\u001b[K     |████████████████████████████████| 1.5 MB 25.8 MB/s \n",
            "\u001b[?25hRequirement already satisfied: packaging in /usr/local/lib/python3.7/dist-packages (from transformers==4.1.1) (21.3)\n",
            "Collecting tokenizers==0.9.4\n",
            "  Downloading tokenizers-0.9.4-cp37-cp37m-manylinux2010_x86_64.whl (2.9 MB)\n",
            "\u001b[K     |████████████████████████████████| 2.9 MB 59.7 MB/s \n",
            "\u001b[?25hCollecting sacremoses\n",
            "  Downloading sacremoses-0.0.47-py2.py3-none-any.whl (895 kB)\n",
            "\u001b[K     |████████████████████████████████| 895 kB 67.6 MB/s \n",
            "\u001b[?25hRequirement already satisfied: filelock in /usr/local/lib/python3.7/dist-packages (from transformers==4.1.1) (3.4.2)\n",
            "Requirement already satisfied: tqdm>=4.27 in /usr/local/lib/python3.7/dist-packages (from transformers==4.1.1) (4.62.3)\n",
            "Requirement already satisfied: numpy in /usr/local/lib/python3.7/dist-packages (from transformers==4.1.1) (1.19.5)\n",
            "Requirement already satisfied: requests in /usr/local/lib/python3.7/dist-packages (from transformers==4.1.1) (2.23.0)\n",
            "Requirement already satisfied: regex!=2019.12.17 in /usr/local/lib/python3.7/dist-packages (from transformers==4.1.1) (2019.12.20)\n",
            "Requirement already satisfied: pyparsing!=3.0.5,>=2.0.2 in /usr/local/lib/python3.7/dist-packages (from packaging->transformers==4.1.1) (3.0.6)\n",
            "Requirement already satisfied: urllib3!=1.25.0,!=1.25.1,<1.26,>=1.21.1 in /usr/local/lib/python3.7/dist-packages (from requests->transformers==4.1.1) (1.24.3)\n",
            "Requirement already satisfied: idna<3,>=2.5 in /usr/local/lib/python3.7/dist-packages (from requests->transformers==4.1.1) (2.10)\n",
            "Requirement already satisfied: chardet<4,>=3.0.2 in /usr/local/lib/python3.7/dist-packages (from requests->transformers==4.1.1) (3.0.4)\n",
            "Requirement already satisfied: certifi>=2017.4.17 in /usr/local/lib/python3.7/dist-packages (from requests->transformers==4.1.1) (2021.10.8)\n",
            "Requirement already satisfied: six in /usr/local/lib/python3.7/dist-packages (from sacremoses->transformers==4.1.1) (1.15.0)\n",
            "Requirement already satisfied: joblib in /usr/local/lib/python3.7/dist-packages (from sacremoses->transformers==4.1.1) (1.1.0)\n",
            "Requirement already satisfied: click in /usr/local/lib/python3.7/dist-packages (from sacremoses->transformers==4.1.1) (7.1.2)\n",
            "Installing collected packages: tokenizers, sacremoses, transformers\n",
            "Successfully installed sacremoses-0.0.47 tokenizers-0.9.4 transformers-4.1.1\n"
          ]
        }
      ]
    },
    {
      "cell_type": "code",
      "execution_count": null,
      "metadata": {
        "id": "vmyuAFkvnMCm"
      },
      "outputs": [],
      "source": [
        "import torch\n",
        "from tqdm import tqdm\n",
        "import random\n",
        "import csv\n",
        "from transformers import Trainer, TrainingArguments, RobertaForSequenceClassification, RobertaTokenizer\n",
        "from sklearn.metrics import accuracy_score, precision_recall_fscore_support, classification_report\n",
        "import os\n",
        "from os import listdir\n",
        "from os.path import isfile, join\n",
        "import shutil\n",
        "from pathlib import Path"
      ]
    },
    {
      "cell_type": "code",
      "source": [
        "print(torch.cuda.device_count()) \n",
        "print(torch.cuda.get_device_name(0))"
      ],
      "metadata": {
        "colab": {
          "base_uri": "https://localhost:8080/"
        },
        "id": "gNzbZEU1x2u6",
        "outputId": "976642b8-3fd1-4d05-a9d8-cfb8d1c5b8db"
      },
      "execution_count": null,
      "outputs": [
        {
          "output_type": "stream",
          "name": "stdout",
          "text": [
            "1\n",
            "Tesla T4\n"
          ]
        }
      ]
    },
    {
      "cell_type": "code",
      "source": [
        "from google.colab import drive\n",
        "drive.mount('/gdrive')\n",
        "%cd /gdrive"
      ],
      "metadata": {
        "colab": {
          "base_uri": "https://localhost:8080/"
        },
        "id": "xappqaKnoZ-s",
        "outputId": "9d79b94f-8698-4f5d-c6d6-11e14d9227a6"
      },
      "execution_count": null,
      "outputs": [
        {
          "output_type": "stream",
          "name": "stdout",
          "text": [
            "Mounted at /gdrive\n",
            "/gdrive\n"
          ]
        }
      ]
    },
    {
      "cell_type": "code",
      "source": [
        "def readTSVFile(file):\n",
        "  texts = []\n",
        "  labels = []\n",
        "  labelToUse = 0 ## CONTRADICTING / NEI\n",
        "  if 'uniform_true' in file:\n",
        "    labelToUse = 1 ## SUPPORTS\n",
        "  if 'uniform_false' in file:\n",
        "    labelToUse = 2 ## REFUTES\n",
        "  with open(file) as fd:\n",
        "    rd = csv.reader(fd, delimiter=\"\\t\", quotechar='\"')\n",
        "    for row in rd:\n",
        "      texts.append(row[0])\n",
        "      labels.append(labelToUse)\n",
        "  return texts, labels"
      ],
      "metadata": {
        "id": "cKWANxFsq7_x"
      },
      "execution_count": null,
      "outputs": []
    },
    {
      "cell_type": "code",
      "source": [
        "def extractSize(fileName):\n",
        "  splits = fileName.split(\"_\")\n",
        "  return int(splits[-2])\n",
        "\n",
        "\n",
        "print(extractSize('basket_full_names_uniform_true_fd_4_train.tsv'))\n",
        "print(extractSize('soccer_uniform_true_row_1000_train.tsv'))"
      ],
      "metadata": {
        "colab": {
          "base_uri": "https://localhost:8080/"
        },
        "id": "L7LQ3LXbO7nR",
        "outputId": "d9b7e088-106f-4e75-8a49-61e21c7bf79f"
      },
      "execution_count": null,
      "outputs": [
        {
          "output_type": "stream",
          "name": "stdout",
          "text": [
            "4\n",
            "1000\n"
          ]
        }
      ]
    },
    {
      "cell_type": "code",
      "source": [
        "BASE_PATH = \"MyDrive/ricerca/pythia_feverous_vldb/\"\n",
        "#templatesInTrain = ['attribute', 'full', 'fd', 'row']\n",
        "templatesInTrain = ['attribute']\n",
        "trainSuffix = \"_train.tsv\"\n",
        "testSuffix = \"_test.tsv\"\n",
        "sizeMax = 100\n",
        "sizeMin= 0\n",
        "\n",
        "## fname = baseFolder + tName + \"_\" + matchType + \"_\" + type + \"_\" + str(datasetSize) + suffix\n",
        "\n",
        "files = [f for f in listdir(BASE_PATH) if isfile(join(BASE_PATH, f))]\n",
        "trainFiles = []\n",
        "testFiles = []\n",
        "for f in files:\n",
        "  if trainSuffix in f:\n",
        "    for template in templatesInTrain:\n",
        "      if template in f:\n",
        "        if template == 'fd':\n",
        "          trainFiles.append(f)\n",
        "        else:\n",
        "          sizeFile = extractSize(f)\n",
        "          if sizeFile > sizeMin and sizeFile <= sizeMax:\n",
        "            trainFiles.append(f)\n",
        "  \n",
        "  if testSuffix in f:\n",
        "    sizeFile = extractSize(f)\n",
        "    if sizeFile > sizeMin and sizeFile <= sizeMax:\n",
        "        testFiles.append(f)\n",
        "    else:\n",
        "      if template == 'fd' and template in f:\n",
        "        testFiles.append(f)      \n",
        "\n",
        "text_train = []\n",
        "labels_train = []\n",
        "text_test = []\n",
        "labels_test = []\n",
        "\n",
        "print(\"** TRAIN **\")\n",
        "for trainTSV in trainFiles:\n",
        "  print(trainTSV)\n",
        "  text, labels = readTSVFile(BASE_PATH + trainTSV)\n",
        "  text_train.extend(text)\n",
        "  labels_train.extend(labels)\n",
        "print(\"** Test **\")\n",
        "for testTSV in testFiles:\n",
        "  print(testTSV)\n",
        "  text, labels = readTSVFile(BASE_PATH + testTSV)\n",
        "  text_test.extend(text)\n",
        "  labels_test.extend(labels)\n",
        "\n",
        "train_data = list(zip(text_train, labels_train))\n",
        "random_seed = 42\n",
        "random.Random(random_seed).shuffle(train_data) #to get deterministic results\n",
        "#random.shuffle(train_data)\n",
        "text_train, labels_train = zip(*train_data)\n",
        "\n",
        "print(\"TRAIN:\", len(text_train))\n",
        "print(\"TEST:\", len(text_test))\n",
        "\n",
        "#labels_train_unique = set(labels_train)\n",
        "#print(labels_train_unique)\n",
        "\n",
        "#labels_test_unique = set(labels_test)\n",
        "#print(labels_test_unique)"
      ],
      "metadata": {
        "colab": {
          "base_uri": "https://localhost:8080/"
        },
        "id": "uDHQDQ_6raE9",
        "outputId": "76ece662-ce9b-4acf-e7f6-7bad002f27d8"
      },
      "execution_count": null,
      "outputs": [
        {
          "output_type": "stream",
          "name": "stdout",
          "text": [
            "** TRAIN **\n",
            "iris_uniform_false_attribute_100_train.tsv\n",
            "iris_contradicting_attribute_100_train.tsv\n",
            "iris_uniform_true_attribute_100_train.tsv\n",
            "basket_full_names_contradicting_attribute_100_train.tsv\n",
            "basket_full_names_uniform_false_attribute_100_train.tsv\n",
            "basket_full_names_uniform_true_attribute_100_train.tsv\n",
            "soccer_contradicting_attribute_100_train.tsv\n",
            "soccer_uniform_false_attribute_100_train.tsv\n",
            "soccer_uniform_true_attribute_100_train.tsv\n",
            "** Test **\n",
            "basket_acronyms_contradicting_attribute_100_test.tsv\n",
            "basket_acronyms_uniform_false_attribute_100_test.tsv\n",
            "basket_acronyms_uniform_true_attribute_100_test.tsv\n",
            "abalone_contradicting_attribute_100_test.tsv\n",
            "abalone_uniform_false_attribute_100_test.tsv\n",
            "abalone_uniform_true_attribute_100_test.tsv\n",
            "adult_short_contradicting_attribute_100_test.tsv\n",
            "adult_short_uniform_false_attribute_100_test.tsv\n",
            "adult_short_uniform_true_attribute_100_test.tsv\n",
            "mushroom_short_contradicting_attribute_100_test.tsv\n",
            "mushroom_short_uniform_false_attribute_100_test.tsv\n",
            "mushroom_short_uniform_true_attribute_100_test.tsv\n",
            "basket_acronyms_contradicting_row_100_test.tsv\n",
            "basket_acronyms_uniform_false_row_100_test.tsv\n",
            "basket_acronyms_uniform_true_row_100_test.tsv\n",
            "basket_acronyms_contradicting_full_100_test.tsv\n",
            "basket_acronyms_uniform_false_full_100_test.tsv\n",
            "basket_acronyms_uniform_true_full_100_test.tsv\n",
            "basket_acronyms_uniform_true_fd_4_test.tsv\n",
            "basket_acronyms_contradicting_fd_4_test.tsv\n",
            "basket_acronyms_uniform_false_fd_4_test.tsv\n",
            "TRAIN: 900\n",
            "TEST: 1812\n"
          ]
        }
      ]
    },
    {
      "cell_type": "code",
      "source": [
        "sigmodDemo = False\n",
        "if sigmodDemo:\n",
        "  BASE_PATH = \"MyDrive/ricerca/pythia-feverous/\"\n",
        "  datasetTrain = ['iris', 'basket_full_names', 'soccer']\n",
        "  datasetTest = ['abalone', 'adult', 'basket_acronyms', 'mushroom']\n",
        "  text_train = []\n",
        "  labels_train = []\n",
        "  text_test = []\n",
        "  labels_test = []\n",
        "  for trainCSV in datasetTrain:\n",
        "    fileNameUniformTrue = BASE_PATH + trainCSV + \"_uniform_true\" + \"_train.tsv\"\n",
        "    fileNameUniformFalse = BASE_PATH + trainCSV + \"_uniform_false\" + \"_train.tsv\"\n",
        "    fileNameContradicting = BASE_PATH + trainCSV + \"_contradicting\" + \"_train.tsv\"\n",
        "    textsTrue, labelsTrue = readTSVFile(fileNameUniformTrue)\n",
        "    textsFalse, labelsFalse = readTSVFile(fileNameUniformFalse)\n",
        "    textsContradicting, labelsContradicting = readTSVFile(fileNameContradicting)\n",
        "    text_train.extend(textsTrue)\n",
        "    text_train.extend(textsFalse)\n",
        "    text_train.extend(textsContradicting)\n",
        "    labels_train.extend(labelsTrue)\n",
        "    labels_train.extend(labelsFalse)\n",
        "    labels_train.extend(labelsContradicting)\n",
        "\n",
        "  for test in datasetTest:\n",
        "    fileNameUniformTrue = BASE_PATH + test + \"_uniform_true\" + \"_test.tsv\"\n",
        "    fileNameUniformFalse = BASE_PATH + test + \"_uniform_false\" + \"_test.tsv\"\n",
        "    fileNameContradicting = BASE_PATH + test + \"_contradicting\" + \"_test.tsv\"\n",
        "    textsTrue, labelsTrue = readTSVFile(fileNameUniformTrue)\n",
        "    textsFalse, labelsFalse = readTSVFile(fileNameUniformFalse)\n",
        "    textsContradicting, labelsContradicting = readTSVFile(fileNameContradicting)\n",
        "    text_test.extend(textsTrue)\n",
        "    text_test.extend(textsFalse)\n",
        "    text_test.extend(textsContradicting)\n",
        "    labels_test.extend(labelsTrue)\n",
        "    labels_test.extend(labelsFalse)\n",
        "    labels_test.extend(labelsContradicting)\n",
        "\n",
        "  train_data = list(zip(text_train, labels_train))\n",
        "  random.shuffle(train_data)\n",
        "  text_train, labels_train = zip(*train_data)\n",
        "\n",
        "  del textsTrue, textsFalse, textsContradicting, labelsTrue, labelsFalse,labelsContradicting\n",
        "\n",
        "  print(\"TRAIN:\", len(text_train))\n",
        "  print(\"TEST:\", len(text_test))"
      ],
      "metadata": {
        "id": "0f-hMgjbpRXq"
      },
      "execution_count": null,
      "outputs": []
    },
    {
      "cell_type": "code",
      "source": [
        "class FEVEROUSDataset(torch.utils.data.Dataset):\n",
        "    def __init__(self, encodings, labels, use_labels = True):\n",
        "        self.encodings = encodings\n",
        "        self.labels = labels\n",
        "        self.use_labels = use_labels\n",
        "\n",
        "    def __getitem__(self, idx):\n",
        "        item = {key: torch.tensor(val[idx]) for key, val in self.encodings.items()}\n",
        "        if self.use_labels:\n",
        "            item['labels'] = torch.tensor(self.labels[idx])\n",
        "        return item\n",
        "\n",
        "    def __len__(self):\n",
        "        return len(self.labels)"
      ],
      "metadata": {
        "id": "tsa35jyvucUE"
      },
      "execution_count": null,
      "outputs": []
    },
    {
      "cell_type": "code",
      "source": [
        "def compute_metrics(pred):\n",
        "    labels = pred.label_ids\n",
        "    preds = pred.predictions.argmax(-1)\n",
        "    precision, recall, f1, _ = precision_recall_fscore_support(labels, preds, average='micro')\n",
        "    acc = accuracy_score(labels, preds)\n",
        "    class_rep = classification_report(labels, preds, target_names= ['NOT ENOUGH INFO', 'SUPPORTS', 'REFUTES'], output_dict=True)\n",
        "    print(class_rep)\n",
        "    print(\"Acc: {}, Recall: {}, Precision: {}, F1: {}\".format(acc, recall, precision, f1))\n",
        "    return {\n",
        "        'accuracy': acc,\n",
        "        'f1': f1,\n",
        "        'precision': precision,\n",
        "        'recall': recall,\n",
        "        'class_rep': class_rep\n",
        "    }"
      ],
      "metadata": {
        "id": "kmBYf3XJvUg6"
      },
      "execution_count": null,
      "outputs": []
    },
    {
      "cell_type": "markdown",
      "source": [
        "#Code for training and testing"
      ],
      "metadata": {
        "id": "yCtzznSD00sz"
      }
    },
    {
      "cell_type": "code",
      "source": [
        "tokenizer = RobertaTokenizer.from_pretrained('ynie/roberta-large-snli_mnli_fever_anli_R1_R2_R3-nli')\n",
        "text_train = tokenizer(text_train, padding=True, truncation=True)\n",
        "train_dataset = FEVEROUSDataset(text_train, labels_train)\n",
        "text_test = tokenizer(text_test, padding=True, truncation=True)\n",
        "test_dataset = FEVEROUSDataset(text_test, labels_test)\n",
        "\n",
        "#to keep the code unchanged we used the NEI class string for AMB class string"
      ],
      "metadata": {
        "id": "-SaGBwpWtDP-"
      },
      "execution_count": null,
      "outputs": []
    },
    {
      "cell_type": "code",
      "source": [
        "def model_trainer_new(model_path, train_dataset, test_dataset):\n",
        "    model = RobertaForSequenceClassification.from_pretrained('ynie/roberta-large-snli_mnli_fever_anli_R1_R2_R3-nli', num_labels =3, return_dict=True)#ynie/roberta-large-snli_mnli_fever_anli_R1_R2_R3-nli\n",
        "\n",
        "    training_args = TrainingArguments(\n",
        "    output_dir=model_path,          # output directory\n",
        "    num_train_epochs=1,              # total # of training epochs\n",
        "    #per_device_train_batch_size=16,  # batch size per device during training\n",
        "    #per_device_eval_batch_size=16,   # batch size for evaluation\n",
        "    per_device_train_batch_size=2,  # batch size per device during training (we used 2 to avoid memory errors)\n",
        "    per_device_eval_batch_size=1,   # batch size for evaluation\n",
        "    # gradient_accumulation_steps=3,\n",
        "    warmup_steps=0,                # number of warmup steps for learning rate scheduler\n",
        "    weight_decay=0.01,               # strength of weight decay\n",
        "    logging_dir= os.path.join(model_path, 'logs'),            # directory for storing logs\n",
        "    logging_steps=1200,\n",
        "    save_steps = 5900, #1200,\n",
        "    learning_rate = 1e-05\n",
        "    # save_strategy='epoch'\n",
        "    )\n",
        "\n",
        "    if test_dataset != None:\n",
        "        trainer = Trainer(\n",
        "        model=model,                         # the instantiated 🤗 Transformers model to be trained\n",
        "        args=training_args,                  # training arguments, defined above\n",
        "        train_dataset=train_dataset,         # training dataset\n",
        "        eval_dataset=test_dataset,          # evaluation dataset\n",
        "        compute_metrics = compute_metrics,\n",
        "        )\n",
        "    else:\n",
        "        trainer = Trainer(\n",
        "        model=model,                         # the instantiated 🤗 Transformers model to be trained\n",
        "        args=training_args,                  # training arguments, defined above\n",
        "        train_dataset=train_dataset,         # training dataset\n",
        "        compute_metrics = compute_metrics,\n",
        "        )\n",
        "    return trainer, model"
      ],
      "metadata": {
        "id": "C6pgXiYuum4g"
      },
      "execution_count": null,
      "outputs": []
    },
    {
      "cell_type": "code",
      "source": [
        "MODEL_PATH = '/models/feverous_verdict_predictor_pythia_2'\n",
        "dirpath = Path(MODEL_PATH)\n",
        "if dirpath.exists() and dirpath.is_dir():\n",
        "  shutil.rmtree(dirpath)\n",
        "  print(\"MODEL_PATH removed\")"
      ],
      "metadata": {
        "id": "nA5hBrpFvtCW",
        "colab": {
          "base_uri": "https://localhost:8080/"
        },
        "outputId": "e368f863-f962-4f45-d6df-31a1842b8328"
      },
      "execution_count": null,
      "outputs": [
        {
          "output_type": "stream",
          "name": "stdout",
          "text": [
            "MODEL_PATH removed\n"
          ]
        }
      ]
    },
    {
      "cell_type": "code",
      "source": [
        "#!export PYTORCH_CUDA_ALLOC_CONF=max_split_size_mb:128\n",
        "trainer, model = model_trainer_new(MODEL_PATH, train_dataset, test_dataset)\n",
        "trainer.train()\n",
        "scores = trainer.evaluate()\n",
        "print(scores)"
      ],
      "metadata": {
        "id": "z-N7GSi4vtwi",
        "colab": {
          "base_uri": "https://localhost:8080/",
          "height": 237
        },
        "outputId": "02174085-2afe-4e7d-86a3-46064e46b8c0"
      },
      "execution_count": null,
      "outputs": [
        {
          "output_type": "stream",
          "name": "stderr",
          "text": [
            "Some weights of the model checkpoint at ynie/roberta-large-snli_mnli_fever_anli_R1_R2_R3-nli were not used when initializing RobertaForSequenceClassification: ['roberta.pooler.dense.weight', 'roberta.pooler.dense.bias']\n",
            "- This IS expected if you are initializing RobertaForSequenceClassification from the checkpoint of a model trained on another task or with another architecture (e.g. initializing a BertForSequenceClassification model from a BertForPreTraining model).\n",
            "- This IS NOT expected if you are initializing RobertaForSequenceClassification from the checkpoint of a model that you expect to be exactly identical (initializing a BertForSequenceClassification model from a BertForSequenceClassification model).\n"
          ]
        },
        {
          "output_type": "display_data",
          "data": {
            "text/html": [
              "\n",
              "    <div>\n",
              "        <style>\n",
              "            /* Turns off some styling */\n",
              "            progress {\n",
              "                /* gets rid of default border in Firefox and Opera. */\n",
              "                border: none;\n",
              "                /* Needs to be in here for Safari polyfill so background images work as expected. */\n",
              "                background-size: auto;\n",
              "            }\n",
              "        </style>\n",
              "      \n",
              "      <progress value='450' max='450' style='width:300px; height:20px; vertical-align: middle;'></progress>\n",
              "      [450/450 01:19, Epoch 1/1]\n",
              "    </div>\n",
              "    <table border=\"1\" class=\"dataframe\">\n",
              "  <thead>\n",
              "    <tr style=\"text-align: left;\">\n",
              "      <th>Step</th>\n",
              "      <th>Training Loss</th>\n",
              "    </tr>\n",
              "  </thead>\n",
              "  <tbody>\n",
              "  </tbody>\n",
              "</table><p>"
            ],
            "text/plain": [
              "<IPython.core.display.HTML object>"
            ]
          },
          "metadata": {}
        },
        {
          "output_type": "display_data",
          "data": {
            "text/html": [
              "\n",
              "    <div>\n",
              "        <style>\n",
              "            /* Turns off some styling */\n",
              "            progress {\n",
              "                /* gets rid of default border in Firefox and Opera. */\n",
              "                border: none;\n",
              "                /* Needs to be in here for Safari polyfill so background images work as expected. */\n",
              "                background-size: auto;\n",
              "            }\n",
              "        </style>\n",
              "      \n",
              "      <progress value='1812' max='1812' style='width:300px; height:20px; vertical-align: middle;'></progress>\n",
              "      [1812/1812 02:04]\n",
              "    </div>\n",
              "    "
            ],
            "text/plain": [
              "<IPython.core.display.HTML object>"
            ]
          },
          "metadata": {}
        },
        {
          "output_type": "stream",
          "name": "stderr",
          "text": [
            "Trainer is attempting to log a value of \"{'NOT ENOUGH INFO': {'precision': 0.8983666061705989, 'recall': 0.8195364238410596, 'f1-score': 0.8571428571428571, 'support': 604}, 'SUPPORTS': {'precision': 0.9222423146473779, 'recall': 0.8443708609271523, 'f1-score': 0.881590319792567, 'support': 604}, 'REFUTES': {'precision': 0.7796610169491526, 'recall': 0.9139072847682119, 'f1-score': 0.8414634146341463, 'support': 604}, 'accuracy': 0.859271523178808, 'macro avg': {'precision': 0.8667566459223766, 'recall': 0.859271523178808, 'f1-score': 0.86006553052319, 'support': 1812}, 'weighted avg': {'precision': 0.8667566459223764, 'recall': 0.859271523178808, 'f1-score': 0.8600655305231901, 'support': 1812}}\" of type <class 'dict'> for key \"eval/class_rep\" as a scalar. This invocation of Tensorboard's writer.add_scalar() is incorrect so we dropped this attribute.\n"
          ]
        },
        {
          "output_type": "stream",
          "name": "stdout",
          "text": [
            "{'NOT ENOUGH INFO': {'precision': 0.8983666061705989, 'recall': 0.8195364238410596, 'f1-score': 0.8571428571428571, 'support': 604}, 'SUPPORTS': {'precision': 0.9222423146473779, 'recall': 0.8443708609271523, 'f1-score': 0.881590319792567, 'support': 604}, 'REFUTES': {'precision': 0.7796610169491526, 'recall': 0.9139072847682119, 'f1-score': 0.8414634146341463, 'support': 604}, 'accuracy': 0.859271523178808, 'macro avg': {'precision': 0.8667566459223766, 'recall': 0.859271523178808, 'f1-score': 0.86006553052319, 'support': 1812}, 'weighted avg': {'precision': 0.8667566459223764, 'recall': 0.859271523178808, 'f1-score': 0.8600655305231901, 'support': 1812}}\n",
            "Acc: 0.859271523178808, Recall: 0.859271523178808, Precision: 0.859271523178808, F1: 0.8592715231788081\n",
            "{'eval_loss': 0.9429283738136292, 'eval_accuracy': 0.859271523178808, 'eval_f1': 0.8592715231788081, 'eval_precision': 0.859271523178808, 'eval_recall': 0.859271523178808, 'eval_class_rep': {'NOT ENOUGH INFO': {'precision': 0.8983666061705989, 'recall': 0.8195364238410596, 'f1-score': 0.8571428571428571, 'support': 604}, 'SUPPORTS': {'precision': 0.9222423146473779, 'recall': 0.8443708609271523, 'f1-score': 0.881590319792567, 'support': 604}, 'REFUTES': {'precision': 0.7796610169491526, 'recall': 0.9139072847682119, 'f1-score': 0.8414634146341463, 'support': 604}, 'accuracy': 0.859271523178808, 'macro avg': {'precision': 0.8667566459223766, 'recall': 0.859271523178808, 'f1-score': 0.86006553052319, 'support': 1812}, 'weighted avg': {'precision': 0.8667566459223764, 'recall': 0.859271523178808, 'f1-score': 0.8600655305231901, 'support': 1812}}, 'epoch': 1.0}\n"
          ]
        }
      ]
    },
    {
      "cell_type": "markdown",
      "source": [
        "# Test FEVEROUS BASELINE published"
      ],
      "metadata": {
        "id": "IAdBtUpc9yCB"
      }
    },
    {
      "cell_type": "code",
      "source": [
        "## link model: https://drive.google.com/file/d/1Zu3RUFzThPpsSkBhlYc0CBoRpIRxauGR/view?usp=sharing\n",
        "!pip install googledrivedownloader"
      ],
      "metadata": {
        "id": "W9wdEyZev-rJ",
        "colab": {
          "base_uri": "https://localhost:8080/"
        },
        "outputId": "977147a0-ce43-4a63-d68e-d1f2a31fbda2"
      },
      "execution_count": null,
      "outputs": [
        {
          "output_type": "stream",
          "name": "stdout",
          "text": [
            "Requirement already satisfied: googledrivedownloader in /usr/local/lib/python3.7/dist-packages (0.4)\n"
          ]
        }
      ]
    },
    {
      "cell_type": "code",
      "source": [
        "from google_drive_downloader import GoogleDriveDownloader as gdd\n",
        "\n",
        "gdd.download_file_from_google_drive(file_id='1Zu3RUFzThPpsSkBhlYc0CBoRpIRxauGR',\n",
        "                                    dest_path='/content/feverous_cell_extractor.zip',\n",
        "                                    unzip=True)"
      ],
      "metadata": {
        "id": "lPPyvV5cg7LH",
        "colab": {
          "base_uri": "https://localhost:8080/"
        },
        "outputId": "f6c385fd-aec5-4d77-b959-19dfe1b58015"
      },
      "execution_count": null,
      "outputs": [
        {
          "output_type": "stream",
          "name": "stdout",
          "text": [
            "Downloading 1Zu3RUFzThPpsSkBhlYc0CBoRpIRxauGR into /content/feverous_cell_extractor.zip... Done.\n",
            "Unzipping...Done.\n"
          ]
        }
      ]
    },
    {
      "cell_type": "code",
      "source": [
        "def model_trainer(model_path, test_dataset):\n",
        "    # model = BertForSequenceClassification.from_pretrained('bert-base-uncased', num_labels =4)\n",
        "    model = RobertaForSequenceClassification.from_pretrained(model_path, num_labels =3, return_dict=True)\n",
        "\n",
        "    #anfs/bigdisc/rmya2/faiss_data/model_verdict_predictor/checkpoint-1500'\n",
        "    training_args = TrainingArguments(\n",
        "    output_dir='/content/results',          # output directory\n",
        "    per_device_eval_batch_size=32,   # batch size for evaluation\n",
        "    )\n",
        "\n",
        "    trainer = Trainer(\n",
        "    model=model,                         # the instantiated 🤗 Transformers model to be trained\n",
        "    args=training_args,                  # training arguments, defined above\n",
        "    eval_dataset=test_dataset,          # evaluation dataset\n",
        "    compute_metrics = compute_metrics,\n",
        "    )\n",
        "    return trainer, model"
      ],
      "metadata": {
        "id": "3Eq9HKd-hHxO"
      },
      "execution_count": null,
      "outputs": []
    },
    {
      "cell_type": "code",
      "source": [
        "def claim_predictor(model_path, text_test, labels_test):\n",
        "    ### args.model_path is the only required parameter\n",
        "    tokenizer = RobertaTokenizer.from_pretrained('ynie/roberta-large-snli_mnli_fever_anli_R1_R2_R3-nli')\n",
        "    text_test = tokenizer(text_test, padding=True, truncation=True)\n",
        "    test_dataset = FEVEROUSDataset(text_test, labels_test)\n",
        "\n",
        "    trainer, model = model_trainer(model_path, test_dataset)\n",
        "    predictions = trainer.predict(test_dataset)\n",
        "    predictions = predictions.predictions.argmax(-1)\n",
        "    return predictions"
      ],
      "metadata": {
        "id": "eXYn0SIiiNf5"
      },
      "execution_count": null,
      "outputs": []
    },
    {
      "cell_type": "code",
      "source": [
        "MODEL_PATH_LOCAL = '/content/feverous_cell_extractor/'\n",
        "predictions = claim_predictor(MODEL_PATH_LOCAL, text_test, labels_test)"
      ],
      "metadata": {
        "id": "OKZ6Eq-siR_q",
        "colab": {
          "base_uri": "https://localhost:8080/",
          "height": 411,
          "referenced_widgets": [
            "2a93953c28c947acbb34bfdf3ed08d88",
            "f3cf5c74c3e34eca826207d1c263c36c",
            "8e7bf778dfa94f09b2529449421aa342",
            "b94281f1c5b7497b82f58ffa1cb59cc5",
            "1393387d6c38418daba3a581f4fd6cd4",
            "1564b0d8bb6b4e8fa190c51b3dc7d338",
            "8e9fa288a8b8487587412cc8676a426a",
            "cf4c06e008b14fedbdc6cc57e9a7bcb5",
            "6c4109c8a13e457da448cf5015ae9224",
            "fe67c87f3aca46a7a1b700cc2e3a2b66",
            "c5fab14f78b34e19a06ccde4fc79a641",
            "2f68fb56b58b45c0a9a9dbe0adf60afd",
            "c966d85358d74b96a4dec724c84479f2",
            "c323c84dd7bd4fa6a7ef35e9e2b8fc78",
            "fd76328f37fc4e4bab3238ea3c661627",
            "7b08cc731d954d03b4dd67c5422fb32f",
            "19813b34a75c4affac8a940a9a8881a0",
            "cf0c7302f2064d708e48ce5f59563e81",
            "15a43987049145c5b0d9de3eaceeca2c",
            "6f6afa90d59d43c382ac43c2d4de77b4",
            "125f6a489af74eb0a6abf3767f8b37a7",
            "5373fb6118a144bd959e73ede268a343",
            "8b85d43bac534dbca12a55fddb3a63e9",
            "1c9703dcd249495289fb441f6b9c6581",
            "0a347f12b55149408610a8c3e676aada",
            "201052ffe13e42e182003521f576983e",
            "be5915e28360448c8b375d3f9686d748",
            "00ee3c752e214e50b9e39ab6fd199c28",
            "95e129d0046442fc85695d4c83e71b69",
            "a417cead8b43462995f76a18a0e306d2",
            "2f7a0e78add6486184e832ac6b41982b",
            "acfa5be4e95e4f0db5c76a5bccf28c86",
            "d7431dee6ca84195b1e59946405287aa",
            "67acf4d8d3ff49c2956efdc7fcf59522",
            "4f43a739792a4df8844400205efc7915",
            "9079edba0e854e3890cb4277d975cd01",
            "96e565f0d16a4382b1d04868e93e6752",
            "efa678132ded464090edbc6857765b16",
            "65357d28d5fe434cad0621e8ccac0cdf",
            "fd1b2cd7b5c0499c87c9e9648107be74",
            "4557684aa57645b1a979bd3b7dbb252f",
            "682cd3681e1a48809c36ba0946f4690e",
            "6e34b5202d0d4f3c9fc5fede69890420",
            "91d0b74832bd443d9b2010ef0945e61d"
          ]
        },
        "outputId": "f4c80453-ebd0-47f0-f914-942c312e7831"
      },
      "execution_count": null,
      "outputs": [
        {
          "output_type": "display_data",
          "data": {
            "application/vnd.jupyter.widget-view+json": {
              "model_id": "2a93953c28c947acbb34bfdf3ed08d88",
              "version_minor": 0,
              "version_major": 2
            },
            "text/plain": [
              "Downloading:   0%|          | 0.00/899k [00:00<?, ?B/s]"
            ]
          },
          "metadata": {}
        },
        {
          "output_type": "display_data",
          "data": {
            "application/vnd.jupyter.widget-view+json": {
              "model_id": "2f68fb56b58b45c0a9a9dbe0adf60afd",
              "version_minor": 0,
              "version_major": 2
            },
            "text/plain": [
              "Downloading:   0%|          | 0.00/456k [00:00<?, ?B/s]"
            ]
          },
          "metadata": {}
        },
        {
          "output_type": "display_data",
          "data": {
            "application/vnd.jupyter.widget-view+json": {
              "model_id": "8b85d43bac534dbca12a55fddb3a63e9",
              "version_minor": 0,
              "version_major": 2
            },
            "text/plain": [
              "Downloading:   0%|          | 0.00/772 [00:00<?, ?B/s]"
            ]
          },
          "metadata": {}
        },
        {
          "output_type": "display_data",
          "data": {
            "application/vnd.jupyter.widget-view+json": {
              "model_id": "67acf4d8d3ff49c2956efdc7fcf59522",
              "version_minor": 0,
              "version_major": 2
            },
            "text/plain": [
              "Downloading:   0%|          | 0.00/49.0 [00:00<?, ?B/s]"
            ]
          },
          "metadata": {}
        },
        {
          "output_type": "stream",
          "name": "stderr",
          "text": [
            "Some weights of the model checkpoint at /content/feverous_cell_extractor/ were not used when initializing RobertaForSequenceClassification: ['classifier.weight', 'classifier.bias']\n",
            "- This IS expected if you are initializing RobertaForSequenceClassification from the checkpoint of a model trained on another task or with another architecture (e.g. initializing a BertForSequenceClassification model from a BertForPreTraining model).\n",
            "- This IS NOT expected if you are initializing RobertaForSequenceClassification from the checkpoint of a model that you expect to be exactly identical (initializing a BertForSequenceClassification model from a BertForSequenceClassification model).\n",
            "Some weights of RobertaForSequenceClassification were not initialized from the model checkpoint at /content/feverous_cell_extractor/ and are newly initialized: ['classifier.dense.weight', 'classifier.dense.bias', 'classifier.out_proj.weight', 'classifier.out_proj.bias']\n",
            "You should probably TRAIN this model on a down-stream task to be able to use it for predictions and inference.\n"
          ]
        },
        {
          "output_type": "display_data",
          "data": {
            "text/html": [
              "\n",
              "    <div>\n",
              "        <style>\n",
              "            /* Turns off some styling */\n",
              "            progress {\n",
              "                /* gets rid of default border in Firefox and Opera. */\n",
              "                border: none;\n",
              "                /* Needs to be in here for Safari polyfill so background images work as expected. */\n",
              "                background-size: auto;\n",
              "            }\n",
              "        </style>\n",
              "      \n",
              "      <progress value='57' max='57' style='width:300px; height:20px; vertical-align: middle;'></progress>\n",
              "      [57/57 00:50]\n",
              "    </div>\n",
              "    "
            ],
            "text/plain": [
              "<IPython.core.display.HTML object>"
            ]
          },
          "metadata": {}
        },
        {
          "output_type": "stream",
          "name": "stdout",
          "text": [
            "{'NOT ENOUGH INFO': {'precision': 0.0, 'recall': 0.0, 'f1-score': 0.0, 'support': 604}, 'SUPPORTS': {'precision': 0.0, 'recall': 0.0, 'f1-score': 0.0, 'support': 604}, 'REFUTES': {'precision': 0.3333333333333333, 'recall': 1.0, 'f1-score': 0.5, 'support': 604}, 'accuracy': 0.3333333333333333, 'macro avg': {'precision': 0.1111111111111111, 'recall': 0.3333333333333333, 'f1-score': 0.16666666666666666, 'support': 1812}, 'weighted avg': {'precision': 0.1111111111111111, 'recall': 0.3333333333333333, 'f1-score': 0.16666666666666666, 'support': 1812}}\n",
            "Acc: 0.3333333333333333, Recall: 0.3333333333333333, Precision: 0.3333333333333333, F1: 0.3333333333333333\n"
          ]
        },
        {
          "output_type": "stream",
          "name": "stderr",
          "text": [
            "/usr/local/lib/python3.7/dist-packages/sklearn/metrics/_classification.py:1318: UndefinedMetricWarning: Precision and F-score are ill-defined and being set to 0.0 in labels with no predicted samples. Use `zero_division` parameter to control this behavior.\n",
            "  _warn_prf(average, modifier, msg_start, len(result))\n",
            "/usr/local/lib/python3.7/dist-packages/sklearn/metrics/_classification.py:1318: UndefinedMetricWarning: Precision and F-score are ill-defined and being set to 0.0 in labels with no predicted samples. Use `zero_division` parameter to control this behavior.\n",
            "  _warn_prf(average, modifier, msg_start, len(result))\n",
            "/usr/local/lib/python3.7/dist-packages/sklearn/metrics/_classification.py:1318: UndefinedMetricWarning: Precision and F-score are ill-defined and being set to 0.0 in labels with no predicted samples. Use `zero_division` parameter to control this behavior.\n",
            "  _warn_prf(average, modifier, msg_start, len(result))\n"
          ]
        }
      ]
    },
    {
      "cell_type": "code",
      "source": [
        "predictions"
      ],
      "metadata": {
        "id": "5rv_wpz_jjZy",
        "colab": {
          "base_uri": "https://localhost:8080/"
        },
        "outputId": "854f290c-b06f-4c33-d729-efe25c56eee7"
      },
      "execution_count": null,
      "outputs": [
        {
          "output_type": "execute_result",
          "data": {
            "text/plain": [
              "array([2, 2, 2, ..., 2, 2, 2])"
            ]
          },
          "metadata": {},
          "execution_count": 16
        }
      ]
    },
    {
      "cell_type": "code",
      "source": [
        "unique_pred = set(predictions)\n",
        "print(unique_pred)"
      ],
      "metadata": {
        "id": "xaUQ8ANf3Qpz",
        "colab": {
          "base_uri": "https://localhost:8080/"
        },
        "outputId": "5efdfc53-33c6-4e04-bdef-3cf88e7a2709"
      },
      "execution_count": null,
      "outputs": [
        {
          "output_type": "stream",
          "name": "stdout",
          "text": [
            "{2}\n"
          ]
        }
      ]
    },
    {
      "cell_type": "code",
      "source": [
        ""
      ],
      "metadata": {
        "id": "_OZ0AredXyQY"
      },
      "execution_count": null,
      "outputs": []
    }
  ]
}